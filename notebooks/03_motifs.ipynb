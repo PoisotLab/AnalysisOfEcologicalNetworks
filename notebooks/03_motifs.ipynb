{
  "cells": [
    {
      "cell_type": "markdown",
      "source": [
        "# Network motifs\n\n\n# Network motifs\n\n## Goals of this chapter\n\n## Illustration"
      ],
      "metadata": {}
    }
  ],
  "nbformat_minor": 2,
  "metadata": {
    "language_info": {
      "file_extension": ".jl",
      "mimetype": "application/julia",
      "name": "julia",
      "version": "1.2.0"
    },
    "kernelspec": {
      "name": "julia-1.2",
      "display_name": "Julia 1.2.0",
      "language": "julia"
    }
  },
  "nbformat": 4
}
