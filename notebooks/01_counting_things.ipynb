{
  "cells": [
    {
      "cell_type": "markdown",
      "source": [
        "# Counting species and interactions\n\n\n# Counting species and interactions\n\n## Goals of this chapter\n\nThe goal of this chapter is to highlight the importance of thinking about the\nnumber of interactions in a networks, and about the number of interactions\nestablished by as species within a network. We will use various examples to\nintroduce the notions of connectance, degree, and linkage density. In addition,\nthis chapter will serve as an introduction to `EcologicalNetworks` and `Mangal`,\nwhich will provide valuable information for the other chapters.\n\n## Link-species relationships\n\nWe will begin this chapter by looking a basic information we can get on a single\nnetwork - this is useful both as an exploration of the concepts, and as an\nintroduction to the ways we can manipulate network data through programming. In\nparticular, this section will serve as a short introduction to the `Mangal`\npackage to download ecological networks dataset.\n\nWe will load the `Mangal` package, to get access to a variety of functions\nallowing us to get network data from the [mangal.io](http://mangal.io) website.\nNote that we will not load it with `using`, but with `import` - this means that\nwe will need to preface the name of the functions by `Mangal.`, to avoid having\na lot of functions with non-specific names in our namespace:"
      ],
      "metadata": {}
    },
    {
      "outputs": [],
      "cell_type": "code",
      "source": [
        "import Mangal"
      ],
      "metadata": {},
      "execution_count": null
    },
    {
      "cell_type": "markdown",
      "source": [
        "Finally, because we will want to make some visualisations, we will load the\npackages for plots:"
      ],
      "metadata": {}
    },
    {
      "outputs": [],
      "cell_type": "code",
      "source": [
        "using Plots"
      ],
      "metadata": {},
      "execution_count": null
    },
    {
      "cell_type": "markdown",
      "source": [
        "All of these packages have documentations, and it is always a good idea to see\nthe different options available for the various functions. One way to get a\nsense of the functions included in a package, or to get help on these functions,\nit to type `?[PackageName].` in the Julia REPL, and to press Tab to see the\npossible functions. This is also a great way to discover functionalities in\npackages.\n\n### Overview of the data querying\n\nAnd with this, we are all set to get our first network from the <mangal.io>\ndatabase. To illustrate the basic notions, we will work on a pollination\nnetwork, which we access by its unique identifier (`935`). We will see in later\nsections how we can get more control over what networks we get."
      ],
      "metadata": {}
    },
    {
      "outputs": [],
      "cell_type": "code",
      "source": [
        "first_network = Mangal.network(935)\nprint(first_network.description)"
      ],
      "metadata": {},
      "execution_count": null
    },
    {
      "cell_type": "markdown",
      "source": [
        "This object is of the type `j typeof(first_network)`, and has information about\na network. To see what information is available in any type, we can call\n`fieldnames` on the type. In this case, this would return"
      ],
      "metadata": {}
    },
    {
      "outputs": [],
      "cell_type": "code",
      "source": [
        "fieldnames(typeof(first_network))"
      ],
      "metadata": {},
      "execution_count": null
    },
    {
      "cell_type": "markdown",
      "source": [
        "Most of these information are metadata, *e.g.* the date, spatial position, date\nof upload, and a reference. What we do *not* have is a list of the interactions.\nLuckily, we do not yet need a list of interactions, since we are only concerned\nwith counting them (in due time, we will get the entire information on\ninteractions). The `Mangal` package has a method called `count`, which will\nreturn the number of objects matching a series of queries. For example, we can\nget the number of nodes (of type `MangalNode`) in our network with:"
      ],
      "metadata": {}
    },
    {
      "outputs": [],
      "cell_type": "code",
      "source": [
        "count(Mangal.MangalNode, first_network)"
      ],
      "metadata": {},
      "execution_count": null
    },
    {
      "cell_type": "markdown",
      "source": [
        "We can do the same with the number of interactions:"
      ],
      "metadata": {}
    },
    {
      "outputs": [],
      "cell_type": "code",
      "source": [
        "count(Mangal.MangalInteraction, first_network)"
      ],
      "metadata": {},
      "execution_count": null
    },
    {
      "cell_type": "markdown",
      "source": [
        "This method is preferable to more complex ones requiring to download all\ninteractions, because it is a lot faster. As we will see in the following\nsection, the representation of network data in <mangal.io> is very rich, and if\nall we care about is counting things, then we do not need the overhead\nassociated with retrieving all the data.\n\nEquipped with the ability to count objects, we can measure the number of species\nand interactions in any network. We will now generalize this process a little\nbit, and explore the relationship that exists between the number of species and\nthe number of links in a collection of networks.\n\n### Getting the data for multiple networks\n\nIn <mangal.io>, networks are organized in datasets - we will work on a classical\nfood web analysis dataset, representing interactions in small lakes in the\nAdirondack:"
      ],
      "metadata": {}
    },
    {
      "outputs": [],
      "cell_type": "code",
      "source": [
        "small_lakes_dataset = first(Mangal.datasets(\"q\" => \"Adirondack\"))"
      ],
      "metadata": {},
      "execution_count": null
    },
    {
      "cell_type": "markdown",
      "source": [
        "To get the networks associated to this dataset, we can use the `networks`\nfunction, which will give us an array of networks objects. But first, we may\nwant to know how many networks we will get this way:"
      ],
      "metadata": {}
    },
    {
      "outputs": [],
      "cell_type": "code",
      "source": [
        "count(Mangal.MangalNetwork, small_lakes_dataset)"
      ],
      "metadata": {},
      "execution_count": null
    },
    {
      "cell_type": "markdown",
      "source": [
        "The following line will get all of these networks for us:"
      ],
      "metadata": {}
    },
    {
      "outputs": [],
      "cell_type": "code",
      "source": [
        "small_lakes_networks = Mangal.networks(small_lakes_dataset)\nprintln(\"small_lakes_networks contains $(length(small_lakes_networks)) networks\")"
      ],
      "metadata": {},
      "execution_count": null
    },
    {
      "cell_type": "markdown",
      "source": [
        "We will therefore be able to use our collection of `j length(small_lakes_networks)` networks to see how the number of species and\nlinks are related.\n\n### Counting species and interactions\n\nFrom our collection of networks (`small_lakes_networks`), we want to extract the\nnumber of nodes, and the number of interactions. There are a few ways to do\nthis, as is always the case with programming tasks. In this case, we will\nsummarize every network by a `Tuple` which will contain `(S, L)`, the number of\nspecies and links. A `Tuple` is not modifiable, so this is a safe way to collect\ndata. In addition, tuples of coordinates are usable directly in plots, and this\nwill simplify the syntax immensely.\n\nThe first way to achieve this is to use a \"list\ncomprehension\":"
      ],
      "metadata": {}
    },
    {
      "outputs": [],
      "cell_type": "code",
      "source": [
        "LS_1 = [(count(Mangal.MangalNode, network), count(Mangal.MangalInteraction, network)) for network in small_lakes_networks]\nfirst(LS_1)"
      ],
      "metadata": {},
      "execution_count": null
    },
    {
      "cell_type": "markdown",
      "source": [
        "This is a little bit unwieldy, as this is a long line, and requires to create a\nvariable (`network`) only to use inside the loop. Instead, we might want to use\nthe more readable expression below:"
      ],
      "metadata": {}
    },
    {
      "outputs": [],
      "cell_type": "code",
      "source": [
        "S = count.(Mangal.MangalNode, small_lakes_networks);\nL = count.(Mangal.MangalInteraction, small_lakes_networks);\nLS = collect(zip(S,L));"
      ],
      "metadata": {},
      "execution_count": null
    },
    {
      "cell_type": "markdown",
      "source": [
        "This alternative version is easier to parse, and throughout the book we will try\nto favor readability over \"clever\" code. The `LS` variable contains\ntuples that look like:"
      ],
      "metadata": {}
    },
    {
      "outputs": [],
      "cell_type": "code",
      "source": [
        "first(LS)"
      ],
      "metadata": {},
      "execution_count": null
    },
    {
      "cell_type": "markdown",
      "source": [
        "The first network in our dataset has `j first(LS)[1]` species, and `j first(LS)[2]` interactions."
      ],
      "metadata": {}
    },
    {
      "outputs": [],
      "cell_type": "code",
      "source": [
        "p1 = scatter(\n  collect(LS),\n  lab=\"\", legend=:topleft,\n  xlabel = \"Species\", ylabel = \"Links\",\n  frame=:grid,\n  xlim=(10,100),\n  ylim=(10,1000),\n  c=:grey, msw=0, alpha=0.5\n)\nsavefig(p1, \"./myimage.png\")\nsavefig(p1, \"./figures/myimage.png\")"
      ],
      "metadata": {},
      "execution_count": null
    },
    {
      "cell_type": "markdown",
      "source": [
        "### Theories for link-species scaling\n\n## Degree and degree distribution\n\nIn the previous section, we focused on the relationship between the number of\nspecies and the number of interactions *across* networks. It is also very\ninformative to look at the distribution of interactions *across* species\n*within* networks - we call the number of interactions that a species has its\n\"degree\", and the degree distribution is a very important information about a\nnetwork.\n\nTo look at the degree and degree distribution, we will need a few packages,\nwhich you have installed during the introduction. Specifically, we will want to\nload functions to analyse networks themselves, so we will use\n`EcologicalNetworks`, and we might want to represent the networks, and therefore\nwill import `EcologicalNetworksPlots`:"
      ],
      "metadata": {}
    },
    {
      "outputs": [],
      "cell_type": "code",
      "source": [
        "using EcologicalNetworks\nimport EcologicalNetworksPlots"
      ],
      "metadata": {},
      "execution_count": null
    },
    {
      "cell_type": "markdown",
      "source": [
        "### Getting the network data\n\nAnd with this, we are all set to get our first network (we also briefly\nencountered it during the previous section):"
      ],
      "metadata": {}
    },
    {
      "outputs": [],
      "cell_type": "code",
      "source": [
        "first_network = Mangal.network(935)\nprint(first_network.description)"
      ],
      "metadata": {},
      "execution_count": null
    },
    {
      "cell_type": "markdown",
      "source": [
        "As opposed to the previous section, we now want to get a list of interactions\ncontained in this network:"
      ],
      "metadata": {}
    },
    {
      "outputs": [],
      "cell_type": "code",
      "source": [
        "first_network_interactions = Mangal.interactions(first_network);\nprint(\"There are $(length(first_network_interactions)) interactions in this network\")"
      ],
      "metadata": {},
      "execution_count": null
    },
    {
      "cell_type": "markdown",
      "source": [
        "We can have a deeper look at the first interaction:"
      ],
      "metadata": {}
    },
    {
      "outputs": [],
      "cell_type": "code",
      "source": [
        "first_interaction = first(first_network_interactions)"
      ],
      "metadata": {},
      "execution_count": null
    },
    {
      "cell_type": "markdown",
      "source": [
        "This has *a lot* of information! We can focus on the most important properties:\n\n| Information           | How to get it                   | Result                            |\n| --------------------- | ------------------------------- | --------------------------------- |\n| Interaction type      | `first_interaction.type`        | `j first_interaction.type`        |\n| Species 1             | `first_interaction.from.name`   | `j first_interaction.from.name`   |\n| Species 2 taxon ID    | `first_interaction.to.taxon.id` | `j first_interaction.to.taxon.id` |\n| Method of observation | `first_interaction.method`      | `j first_interaction.method`      |\n| Interaction strength  | `first_interaction.strength`    | `j first_interaction.strength`    |\n\n### Creating the network object\n\nThere are a few ways to collect these interactions into a network, but the\nsimplest by far is to transform (`convert`) our `MangalNetwork` object into a\n`UnipartiteQuantitativeNetwork` (which is used by `EcologicalNetworks`) - this\nis done as follows:"
      ],
      "metadata": {}
    },
    {
      "outputs": [],
      "cell_type": "code",
      "source": [
        "N = convert(UnipartiteQuantitativeNetwork, first_network)"
      ],
      "metadata": {},
      "execution_count": null
    },
    {
      "cell_type": "markdown",
      "source": [
        "At this point, you are hopefuly familiar with what \"network\" means, but may have\nsome hesitations about the meaning of \"unipartite\" and \"quantitative\". **TK**\n\nAs a sidenote, we will often adhere to the following convention when naming\nnetworks. `N` is a unipartite network, `B` is a bipartite network, and `R` is a\nrandom network. This is a useful way to get a sense of what we can expect the\nvariable to contain.\n\nSpeaking of which, we know that this network contains information on\npollination, and pollination networks are bipartite, because they have two\ngroups of organisms (pollinators and polinized), which we assume do not\nestablish interactions within the group. We can therefore transform (`convert`)\nour network into its bipartite representation:"
      ],
      "metadata": {}
    },
    {
      "outputs": [],
      "cell_type": "code",
      "source": [
        "B = convert(BipartiteQuantitativeNetwork, N)"
      ],
      "metadata": {},
      "execution_count": null
    },
    {
      "cell_type": "markdown",
      "source": [
        "If you are not sure that a network can be represented in a bipartite way, you\ncan always use the check for bipartiteness, which will return `true` if the\nnetwork can be converted."
      ],
      "metadata": {}
    },
    {
      "outputs": [],
      "cell_type": "code",
      "source": [
        "EcologicalNetworks.check_bipartiteness(N)"
      ],
      "metadata": {},
      "execution_count": null
    },
    {
      "cell_type": "markdown",
      "source": [
        "Not to worry, the `convert` function will fail with an explanation if the\nnetwork cannot be transformed into a bipartite one.\n\n### Visualizing the network\n\nTo get a sense of what the network \"looks like\", we may decide to plot it. We\nhave imported the `EcologicalNetworksPlots` package, which comes with a variety\nof layouts and other functionalities for this task, and works in conjunction\nwith `Plots`. In this example, we will use a spring layout, where nodes are\nrepelled, and interactions are attracting their nodes."
      ],
      "metadata": {}
    },
    {
      "outputs": [],
      "cell_type": "code",
      "source": [
        "I = EcologicalNetworksPlots.initial(EcologicalNetworksPlots.RandomInitialLayout, B)\nfor step in 1:4000\n  EcologicalNetworksPlots.position!(EcologicalNetworksPlots.ForceDirectedLayout(2.5), I, B)\nend\nplot(I, B, aspectratio=1)\nscatter!(I, B, bipartite=true, mc=:lightgrey, msc=:white, msw=2, ms=8)"
      ],
      "metadata": {},
      "execution_count": null
    },
    {
      "cell_type": "markdown",
      "source": [
        "We *may* decide to do this, but in practice we will often refrain from plotting\nnetworks. Plotting networks is very rarely useful. Depending on the layout, it\nis easy to mis-communicate about the structure of the network. Past a certain\nnumber of species and interactions, the plots look like hairballs. Most\nimportantly, we have a wide variety of quantitative measures that we can apply,\nand they will teach us a lot more about the network structure than any plot ever\nwould. Plotting is marginally useful during explorations, and to illustrate\ncertain concepts, but should largely be avoided for research purposes. The few\nexceptions to this rule will be during the chapters on network comparison,\nnetwork motifs, and network modularity.\n\n### Counting species and interactions"
      ],
      "metadata": {}
    },
    {
      "outputs": [],
      "cell_type": "code",
      "source": [
        "richness(B)"
      ],
      "metadata": {},
      "execution_count": null
    },
    {
      "outputs": [],
      "cell_type": "code",
      "source": [
        "richness(B; dims=1)"
      ],
      "metadata": {},
      "execution_count": null
    },
    {
      "outputs": [],
      "cell_type": "code",
      "source": [
        "richness(B; dims=2)"
      ],
      "metadata": {},
      "execution_count": null
    },
    {
      "outputs": [],
      "cell_type": "code",
      "source": [
        "links(B)"
      ],
      "metadata": {},
      "execution_count": null
    },
    {
      "outputs": [],
      "cell_type": "code",
      "source": [
        "sum(B)"
      ],
      "metadata": {},
      "execution_count": null
    },
    {
      "cell_type": "markdown",
      "source": [
        "### Getting the degree of species"
      ],
      "metadata": {}
    },
    {
      "outputs": [],
      "cell_type": "code",
      "source": [
        "degree(B)"
      ],
      "metadata": {},
      "execution_count": null
    },
    {
      "outputs": [],
      "cell_type": "code",
      "source": [
        "degree(B; dims=1)"
      ],
      "metadata": {},
      "execution_count": null
    },
    {
      "outputs": [],
      "cell_type": "code",
      "source": [
        "degree(B; dims=2)"
      ],
      "metadata": {},
      "execution_count": null
    },
    {
      "outputs": [],
      "cell_type": "code",
      "source": [
        "plot(sort(collect(values(degree(B; dims=1)))))\nplot!(sort(collect(values(degree(B; dims=2)))))"
      ],
      "metadata": {},
      "execution_count": null
    },
    {
      "cell_type": "markdown",
      "source": [
        "### Degree distribution"
      ],
      "metadata": {}
    }
  ],
  "nbformat_minor": 2,
  "metadata": {
    "language_info": {
      "file_extension": ".jl",
      "mimetype": "application/julia",
      "name": "julia",
      "version": "1.2.0"
    },
    "kernelspec": {
      "name": "julia-1.2",
      "display_name": "Julia 1.2.0",
      "language": "julia"
    }
  },
  "nbformat": 4
}
